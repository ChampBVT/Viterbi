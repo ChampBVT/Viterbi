{
 "cells": [
  {
   "cell_type": "code",
   "execution_count": null,
   "metadata": {},
   "outputs": [],
   "source": [
    "def viterbi(obs, states, start_p, trans_p, emit_p):\n",
    "V=[{}]\n",
    "    for i in states:\n",
    "        V[0][i]=start_p[i]*emit_p[i][obs[0]]\n",
    "    # Run Viterbi when t > 0\n",
    "    for t in range(1, len(obs)):\n",
    "        V.append({})\n",
    "        for y in states:\n",
    "            (prob, state) = max((V[t-1][y0] * trans_p[y0][y] * emit_p[y][obs[t]], y0) for y0 in states)\n",
    "            V[t][y] = prob\n",
    "        for i in dptable(V):\n",
    "            print (i)\n",
    "        opt=[]\n",
    "        for j in V:\n",
    "            for x,y in j.items():\n",
    "                if j[x]==max(j.values()):\n",
    "                    opt.append(x)\n",
    "    #the highest probability\n",
    "    h=max(V[-1].values())\n",
    "    print ('The steps of states are '+' '.join(opt)+' with highest probability of %s'%h)\n",
    "    #it prints a table of steps from dictionary\n",
    "\n",
    "def dptable(V):\n",
    "    yield \" \".join((\"%10d\" % i) for i in range(len(V)))\n",
    "    for y in V[0]:\n",
    "        yield \"%.7s: \" % y+\" \".join(\"%.7s\" % (\"%f\" % v[y]) for v in V)\n",
    "\n",
    "states = ('Healthy', 'Fever')\n",
    "observations = ('normal', 'cold', 'dizzy')\n",
    "start_probability = {'Healthy': 0.6, 'Fever': 0.4}\n",
    "transition_probability = {\n",
    "'Healthy' : {'Healthy': 0.7, 'Fever': 0.3},\n",
    "'Fever' : {'Healthy': 0.4, 'Fever': 0.6}\n",
    "}\n",
    "emission_probability = {\n",
    "'Healthy' : {'normal': 0.5, 'cold': 0.4, 'dizzy': 0.1},\n",
    "'Fever' : {'normal': 0.1, 'cold': 0.3, 'dizzy': 0.6}\n",
    "}\n",
    "\n",
    "viterbi(observations,\n",
    "                   states,\n",
    "                   start_probability,\n",
    "                   transition_probability,\n",
    "                   emission_probability)"
   ]
  }
 ],
 "metadata": {
  "hide_input": false,
  "kernelspec": {
   "display_name": "Python 3",
   "language": "python",
   "name": "python3"
  },
  "language_info": {
   "codemirror_mode": {
    "name": "ipython",
    "version": 3
   },
   "file_extension": ".py",
   "mimetype": "text/x-python",
   "name": "python",
   "nbconvert_exporter": "python",
   "pygments_lexer": "ipython3",
   "version": "3.7.7"
  },
  "toc": {
   "base_numbering": 1,
   "nav_menu": {},
   "number_sections": true,
   "sideBar": true,
   "skip_h1_title": false,
   "title_cell": "Table of Contents",
   "title_sidebar": "Contents",
   "toc_cell": false,
   "toc_position": {},
   "toc_section_display": true,
   "toc_window_display": false
  },
  "varInspector": {
   "cols": {
    "lenName": 16,
    "lenType": 16,
    "lenVar": 40
   },
   "kernels_config": {
    "python": {
     "delete_cmd_postfix": "",
     "delete_cmd_prefix": "del ",
     "library": "var_list.py",
     "varRefreshCmd": "print(var_dic_list())"
    },
    "r": {
     "delete_cmd_postfix": ") ",
     "delete_cmd_prefix": "rm(",
     "library": "var_list.r",
     "varRefreshCmd": "cat(var_dic_list()) "
    }
   },
   "types_to_exclude": [
    "module",
    "function",
    "builtin_function_or_method",
    "instance",
    "_Feature"
   ],
   "window_display": false
  }
 },
 "nbformat": 4,
 "nbformat_minor": 4
}
