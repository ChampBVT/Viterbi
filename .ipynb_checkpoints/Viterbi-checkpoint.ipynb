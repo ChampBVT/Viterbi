{
 "cells": [
  {
   "cell_type": "code",
   "execution_count": 10,
   "metadata": {
    "ExecuteTime": {
     "end_time": "2020-12-27T16:34:44.465372Z",
     "start_time": "2020-12-27T16:34:44.425138Z"
    }
   },
   "outputs": [
    {
     "name": "stdout",
     "output_type": "stream",
     "text": [
      "Init V:  [{'Healthy': 0.3, 'Fever': 0.04000000000000001}]\n",
      "Healthy\n",
      "Healthy\n",
      "         0          1\n",
      "Healthy: 0.30000 0.08400\n",
      "Fever: 0.04000 0.02700\n",
      "Healthy\n",
      "Healthy\n",
      "         0          1          2\n",
      "Healthy: 0.30000 0.08400 0.00588\n",
      "Fever: 0.04000 0.02700 0.01512\n",
      "This is V:  [{'Healthy': 0.3, 'Fever': 0.04000000000000001}, {'Healthy': 0.084, 'Fever': 0.027}, {'Healthy': 0.00588, 'Fever': 0.01512}]\n",
      "This is opt:  ['Healthy', 'Healthy', 'Fever']\n",
      "The steps of states are Healthy Healthy Fever with highest probability of 0.01512\n"
     ]
    }
   ],
   "source": [
    "def viterbi(obs, states, start_p, trans_p, emit_p):\n",
    "    V=[{}]\n",
    "    for i in states:\n",
    "        V[0][i]=start_p[i]*emit_p[i][obs[0]]\n",
    "    # Run Viterbi when t > 0\n",
    "    print(\"Init V: \", V)\n",
    "    for t in range(1, len(obs)):\n",
    "        V.append({})\n",
    "        for y in states:\n",
    "            (prob, state) = max((V[t-1][y0] * trans_p[y0][y] * emit_p[y][obs[t]], y0) for y0 in states)\n",
    "            V[t][y] = prob\n",
    "            print(state)\n",
    "        for i in dptable(V):\n",
    "            print (i)\n",
    "        opt=[]\n",
    "        for j in V:\n",
    "            for x,y in j.items():\n",
    "                if j[x]==max(j.values()):\n",
    "                    opt.append(x)\n",
    "    #the highest probability\n",
    "    print(\"This is V: \", V)\n",
    "    print(\"This is opt: \", opt)\n",
    "    h=max(V[-1].values())\n",
    "    print ('The steps of states are '+' '.join(opt)+' with highest probability of %s'%h)\n",
    "    #it prints a table of steps from dictionary\n",
    "\n",
    "def dptable(V):\n",
    "    yield \" \".join((\"%10d\" % i) for i in range(len(V)))\n",
    "    for y in V[0]:\n",
    "        yield \"%.7s: \" % y+\" \".join(\"%.7s\" % (\"%f\" % v[y]) for v in V)\n",
    "\n",
    "states = ('Healthy', 'Fever')\n",
    "observations = ('normal', 'cold', 'dizzy')\n",
    "start_probability = {'Healthy': 0.6, 'Fever': 0.4}\n",
    "transition_probability = {\n",
    "'Healthy' : {'Healthy': 0.7, 'Fever': 0.3},\n",
    "'Fever' : {'Healthy': 0.4, 'Fever': 0.6}\n",
    "}\n",
    "emission_probability = {\n",
    "'Healthy' : {'normal': 0.5, 'cold': 0.4, 'dizzy': 0.1},\n",
    "'Fever' : {'normal': 0.1, 'cold': 0.3, 'dizzy': 0.6}\n",
    "}\n",
    "\n",
    "viterbi(observations,\n",
    "                   states,\n",
    "                   start_probability,\n",
    "                   transition_probability,\n",
    "                   emission_probability)"
   ]
  },
  {
   "cell_type": "code",
   "execution_count": 16,
   "metadata": {
    "ExecuteTime": {
     "end_time": "2020-12-27T20:00:21.767199Z",
     "start_time": "2020-12-27T20:00:21.725188Z"
    }
   },
   "outputs": [
    {
     "name": "stdout",
     "output_type": "stream",
     "text": [
      "Init V:  [{'Healthy': 0.3, 'Fever': 0.04000000000000001}]\n",
      "Healthy 0.3\n",
      "Fever 0.04000000000000001\n",
      "Healthy 0.084\n",
      "Fever 0.027\n",
      "Healthy 0.3\n",
      "Fever 0.04000000000000001\n",
      "Healthy 0.084\n",
      "Fever 0.027\n",
      "Healthy 0.00588\n",
      "Fever 0.01512\n",
      "This is V:  [{'Healthy': 0.3, 'Fever': 0.04000000000000001}, {'Healthy': 0.084, 'Fever': 0.027}, {'Healthy': 0.00588, 'Fever': 0.01512}]\n",
      "This is opt:  ['Healthy', 'Healthy', 'Fever']\n",
      "The steps of states are Healthy Healthy Fever with highest probability of 0.01512\n"
     ]
    }
   ],
   "source": [
    "def viterbi2(obs, states, start_p, trans_p, emit_p):\n",
    "    V=[{}]\n",
    "    for i in states:\n",
    "        V[0][i]=start_p[i]*emit_p[i][obs[0]]\n",
    "    # Run Viterbi when t > 0\n",
    "    print(\"Init V: \", V)\n",
    "    for t in range(1, len(obs)):\n",
    "        V.append({})\n",
    "        for y in states:\n",
    "            (prob, state) = max((V[t-1][y0] * trans_p[y0][y] * emit_p[y][obs[t]], y0) for y0 in states)\n",
    "            V[t][y] = prob\n",
    "        opt=[]\n",
    "        for j in V:\n",
    "            for x,y in j.items():\n",
    "                print(x,y)\n",
    "                if j[x]==max(j.values()):\n",
    "                    opt.append(x)\n",
    "    #the highest probability\n",
    "    print(\"This is V: \", V)\n",
    "    print(\"This is opt: \", opt)\n",
    "    h=max(V[-1].values())\n",
    "    print ('The steps of states are '+' '.join(opt)+' with highest probability of %s'%h)\n",
    "    #it prints a table of steps from dictionary\n",
    "\n",
    "def dptable(V):\n",
    "    yield \" \".join((\"%10d\" % i) for i in range(len(V)))\n",
    "    for y in V[0]:\n",
    "        yield \"%.7s: \" % y+\" \".join(\"%.7s\" % (\"%f\" % v[y]) for v in V)\n",
    "\n",
    "states = ('Healthy', 'Fever')\n",
    "observations = ('normal', 'cold', 'dizzy')\n",
    "start_probability = {'Healthy': 0.6, 'Fever': 0.4}\n",
    "transition_probability = {\n",
    "'Healthy' : {'Healthy': 0.7, 'Fever': 0.3},\n",
    "'Fever' : {'Healthy': 0.4, 'Fever': 0.6}\n",
    "}\n",
    "emission_probability = {\n",
    "'Healthy' : {'normal': 0.5, 'cold': 0.4, 'dizzy': 0.1},\n",
    "'Fever' : {'normal': 0.1, 'cold': 0.3, 'dizzy': 0.6}\n",
    "}\n",
    "\n",
    "viterbi2(observations,\n",
    "                   states,\n",
    "                   start_probability,\n",
    "                   transition_probability,\n",
    "                   emission_probability)"
   ]
  },
  {
   "cell_type": "code",
   "execution_count": null,
   "metadata": {},
   "outputs": [],
   "source": []
  },
  {
   "cell_type": "code",
   "execution_count": null,
   "metadata": {},
   "outputs": [],
   "source": []
  }
 ],
 "metadata": {
  "hide_input": false,
  "kernelspec": {
   "display_name": "Python 3",
   "language": "python",
   "name": "python3"
  },
  "language_info": {
   "codemirror_mode": {
    "name": "ipython",
    "version": 3
   },
   "file_extension": ".py",
   "mimetype": "text/x-python",
   "name": "python",
   "nbconvert_exporter": "python",
   "pygments_lexer": "ipython3",
   "version": "3.7.7"
  },
  "toc": {
   "base_numbering": 1,
   "nav_menu": {},
   "number_sections": true,
   "sideBar": true,
   "skip_h1_title": false,
   "title_cell": "Table of Contents",
   "title_sidebar": "Contents",
   "toc_cell": false,
   "toc_position": {},
   "toc_section_display": true,
   "toc_window_display": false
  },
  "varInspector": {
   "cols": {
    "lenName": 16,
    "lenType": 16,
    "lenVar": 40
   },
   "kernels_config": {
    "python": {
     "delete_cmd_postfix": "",
     "delete_cmd_prefix": "del ",
     "library": "var_list.py",
     "varRefreshCmd": "print(var_dic_list())"
    },
    "r": {
     "delete_cmd_postfix": ") ",
     "delete_cmd_prefix": "rm(",
     "library": "var_list.r",
     "varRefreshCmd": "cat(var_dic_list()) "
    }
   },
   "types_to_exclude": [
    "module",
    "function",
    "builtin_function_or_method",
    "instance",
    "_Feature"
   ],
   "window_display": false
  }
 },
 "nbformat": 4,
 "nbformat_minor": 4
}
