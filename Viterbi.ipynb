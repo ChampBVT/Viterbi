{
 "cells": [
  {
   "cell_type": "code",
   "execution_count": 10,
   "metadata": {
    "ExecuteTime": {
     "end_time": "2020-12-27T16:34:44.465372Z",
     "start_time": "2020-12-27T16:34:44.425138Z"
    }
   },
   "outputs": [
    {
     "name": "stdout",
     "output_type": "stream",
     "text": [
      "Init V:  [{'Healthy': 0.3, 'Fever': 0.04000000000000001}]\n",
      "Healthy\n",
      "Healthy\n",
      "         0          1\n",
      "Healthy: 0.30000 0.08400\n",
      "Fever: 0.04000 0.02700\n",
      "Healthy\n",
      "Healthy\n",
      "         0          1          2\n",
      "Healthy: 0.30000 0.08400 0.00588\n",
      "Fever: 0.04000 0.02700 0.01512\n",
      "This is V:  [{'Healthy': 0.3, 'Fever': 0.04000000000000001}, {'Healthy': 0.084, 'Fever': 0.027}, {'Healthy': 0.00588, 'Fever': 0.01512}]\n",
      "This is opt:  ['Healthy', 'Healthy', 'Fever']\n",
      "The steps of states are Healthy Healthy Fever with highest probability of 0.01512\n"
     ]
    }
   ],
   "source": [
    "def viterbi(obs, states, start_p, trans_p, emit_p):\n",
    "    V=[{}]\n",
    "    for i in states:\n",
    "        V[0][i]=start_p[i]*emit_p[i][obs[0]]\n",
    "    # Run Viterbi when t > 0\n",
    "    print(\"Init V: \", V)\n",
    "    for t in range(1, len(obs)):\n",
    "        V.append({})\n",
    "        for y in states:\n",
    "            (prob, state) = max((V[t-1][y0] * trans_p[y0][y] * emit_p[y][obs[t]], y0) for y0 in states)\n",
    "            V[t][y] = prob\n",
    "            print(state)\n",
    "        for i in dptable(V):\n",
    "            print (i)\n",
    "        opt=[]\n",
    "        for j in V:\n",
    "            for x,y in j.items():\n",
    "                if j[x]==max(j.values()):\n",
    "                    opt.append(x)\n",
    "    #the highest probability\n",
    "    print(\"This is V: \", V)\n",
    "    print(\"This is opt: \", opt)\n",
    "    h=max(V[-1].values())\n",
    "    print ('The steps of states are '+' '.join(opt)+' with highest probability of %s'%h)\n",
    "    #it prints a table of steps from dictionary\n",
    "\n",
    "def dptable(V):\n",
    "    yield \" \".join((\"%10d\" % i) for i in range(len(V)))\n",
    "    for y in V[0]:\n",
    "        yield \"%.7s: \" % y+\" \".join(\"%.7s\" % (\"%f\" % v[y]) for v in V)\n",
    "\n",
    "states = ('Healthy', 'Fever')\n",
    "observations = ('normal', 'cold', 'dizzy')\n",
    "start_probability = {'Healthy': 0.6, 'Fever': 0.4}\n",
    "transition_probability = {\n",
    "'Healthy' : {'Healthy': 0.7, 'Fever': 0.3},\n",
    "'Fever' : {'Healthy': 0.4, 'Fever': 0.6}\n",
    "}\n",
    "emission_probability = {\n",
    "'Healthy' : {'normal': 0.5, 'cold': 0.4, 'dizzy': 0.1},\n",
    "'Fever' : {'normal': 0.1, 'cold': 0.3, 'dizzy': 0.6}\n",
    "}\n",
    "\n",
    "viterbi(observations,\n",
    "                   states,\n",
    "                   start_probability,\n",
    "                   transition_probability,\n",
    "                   emission_probability)"
   ]
  },
  {
   "cell_type": "markdown",
   "metadata": {},
   "source": [
    "O1 = S0 XOR S1 XOR I\n",
    "O2 = S0 XOR S2\n",
    "S1, S2 = Next stage"
   ]
  },
  {
   "cell_type": "code",
   "execution_count": 51,
   "metadata": {
    "ExecuteTime": {
     "end_time": "2020-12-28T10:30:05.746499Z",
     "start_time": "2020-12-28T10:30:05.732504Z"
    }
   },
   "outputs": [
    {
     "name": "stdout",
     "output_type": "stream",
     "text": [
      "00110\n",
      "['0', '0', '0'] State: 00 Output: 00\n",
      "['0', '0', '0'] State: 00 Output: 00\n",
      "['1', '0', '0'] State: 10 Output: 11\n",
      "['1', '1', '0'] State: 11 Output: 01\n",
      "['0', '1', '1'] State: 01 Output: 01\n",
      "['00', '00', '11', '01', '01']\n"
     ]
    }
   ],
   "source": [
    "#inputs = [1, 1, 1, 1]\n",
    "inputs = '00110'\n",
    "\n",
    "\n",
    "def xor(bit0, bit1):\n",
    "    if (bit0 == bit1):\n",
    "        return '0'\n",
    "    else:\n",
    "        return '1'\n",
    "\n",
    "\n",
    "def viterbi_encoder(inputs):\n",
    "    if (type(inputs) is int):\n",
    "        inputs = str(inputs)\n",
    "    else:\n",
    "        inputs = ''.join(map(str, inputs))\n",
    "    print(inputs)\n",
    "    #shift register encoder\n",
    "    s_reg = [\"0\", \"0\", \"0\"]\n",
    "    obs = []\n",
    "    for t in range(0, len(inputs)):\n",
    "        #shifting the bits to right\n",
    "        s_reg[2] = s_reg[1]\n",
    "        s_reg[1] = s_reg[0]\n",
    "        #inserting input\n",
    "        s_reg[0] = inputs[t]\n",
    "        state = s_reg[0] + s_reg[1]\n",
    "        obs.append([])\n",
    "        #encoded bits\n",
    "        obs[t] = xor(xor(s_reg[0], s_reg[1]), s_reg[2]) + xor(\n",
    "            s_reg[0], s_reg[2])\n",
    "        print(s_reg, \"State: \" + state, \"Output: \" + obs[t])\n",
    "    print(obs)\n",
    "\n",
    "\n",
    "viterbi_encoder(inputs)"
   ]
  },
  {
   "cell_type": "code",
   "execution_count": 55,
   "metadata": {
    "ExecuteTime": {
     "end_time": "2020-12-28T11:04:35.991650Z",
     "start_time": "2020-12-28T11:04:35.950652Z"
    }
   },
   "outputs": [
    {
     "name": "stdout",
     "output_type": "stream",
     "text": [
      "00102330\n",
      "01022203\n",
      "00110332\n",
      "01122023\n",
      "\n",
      "0\n",
      "1\n",
      "1\n",
      "1\n",
      "0\n",
      "0\n",
      "1\n",
      "00\n",
      "\n",
      "Finish\n"
     ]
    }
   ],
   "source": [
    "obs = (\"11\", \"10\", \"11\", \"11\", \"01\", \"01\", \"11\")\n",
    "start_metric = {'00': 0, '01': 0, '10': 0, '11': 0}\n",
    "state_machine = {\n",
    "    #current state, possible branches, branch information\n",
    "    '00': {\n",
    "        'b1': {\n",
    "            'out_b': \"11\",\n",
    "            'prev_st': '01',\n",
    "            'input_b': 0\n",
    "        },\n",
    "        'b2': {\n",
    "            'out_b': \"00\",\n",
    "            'prev_st': '00',\n",
    "            'input_b': 0\n",
    "        }\n",
    "    },\n",
    "    '01': {\n",
    "        'b1': {\n",
    "            'out_b': \"01\",\n",
    "            'prev_st': '11',\n",
    "            'input_b': 0\n",
    "        },\n",
    "        'b2': {\n",
    "            'out_b': \"10\",\n",
    "            'prev_st': '10',\n",
    "            'input_b': 0\n",
    "        }\n",
    "    },\n",
    "    '10': {\n",
    "        'b1': {\n",
    "            'out_b': \"11\",\n",
    "            'prev_st': '00',\n",
    "            'input_b': 1\n",
    "        },\n",
    "        'b2': {\n",
    "            'out_b': \"00\",\n",
    "            'prev_st': '01',\n",
    "            'input_b': 1\n",
    "        }\n",
    "    },\n",
    "    '11': {\n",
    "        'b1': {\n",
    "            'out_b': \"10\",\n",
    "            'prev_st': '11',\n",
    "            'input_b': 1\n",
    "        },\n",
    "        'b2': {\n",
    "            'out_b': \"01\",\n",
    "            'prev_st': '10',\n",
    "            'input_b': 1\n",
    "        }\n",
    "    },\n",
    "}\n",
    "\n",
    "\n",
    "def bits_diff_num(num_1, num_2):\n",
    "    count = 0\n",
    "    for i in range(0, len(num_1), 1):\n",
    "        if num_1[i] != num_2[i]:\n",
    "            count = count + 1\n",
    "    return count\n",
    "\n",
    "\n",
    "def viterbi(obs, start_metric, state_machine):\n",
    "    #Trellis structure\n",
    "    V = [{}]\n",
    "    for st in state_machine:\n",
    "        # Calculating the probability of both initial possibilities for the first observation\n",
    "        V[0][st] = {\"metric\": start_metric[st]}\n",
    "    #for t&amp;amp;amp;amp;amp;amp;amp;amp;gt;0\n",
    "    for t in range(1, len(obs) + 1):\n",
    "        V.append({})\n",
    "        for st in state_machine:\n",
    "            #Check for smallest bit difference from possible previous paths, adding with previous metric\n",
    "            prev_st = state_machine[st]['b1']['prev_st']\n",
    "            first_b_metric = V[(t - 1)][prev_st][\"metric\"] + bits_diff_num(\n",
    "                state_machine[st]['b1']['out_b'], obs[t - 1])\n",
    "            prev_st = state_machine[st]['b2']['prev_st']\n",
    "            second_b_metric = V[(t - 1)][prev_st][\"metric\"] + bits_diff_num(\n",
    "                state_machine[st]['b2']['out_b'], obs[t - 1])\n",
    "            #print(state_machine[st]['b1']['out_b'],obs[t - 1],t)\n",
    "            if first_b_metric > second_b_metric:\n",
    "                V[t][st] = {\"metric\": second_b_metric, \"branch\": 'b2'}\n",
    "            else:\n",
    "                V[t][st] = {\"metric\": first_b_metric, \"branch\": 'b1'}\n",
    "\n",
    "    for st in state_machine:\n",
    "        for t in range(0, len(V)):\n",
    "            print(V[t][st][\"metric\"], end='')\n",
    "        print(\"\")\n",
    "    print(\"\")\n",
    "\n",
    "    smaller = min(V[t][st][\"metric\"] for st in state_machine)\n",
    "    #traceback the path on smaller metric on last trellis column\n",
    "    for st in state_machine:\n",
    "        if V[len(obs) - 1][st][\"metric\"] == smaller:\n",
    "            source_state = st\n",
    "            for t in range(len(obs), 0, -1):\n",
    "                branch = V[t][source_state][\"branch\"]\n",
    "                print(state_machine[source_state][branch]['input_b']),\n",
    "                source_state = state_machine[source_state][branch]['prev_st']\n",
    "            print(source_state + \"\\n\")\n",
    "    print(\"Finish\")\n",
    "\n",
    "\n",
    "viterbi(obs, start_metric, state_machine)"
   ]
  },
  {
   "cell_type": "code",
   "execution_count": null,
   "metadata": {},
   "outputs": [],
   "source": []
  }
 ],
 "metadata": {
  "hide_input": false,
  "kernelspec": {
   "display_name": "Python 3",
   "language": "python",
   "name": "python3"
  },
  "language_info": {
   "codemirror_mode": {
    "name": "ipython",
    "version": 3
   },
   "file_extension": ".py",
   "mimetype": "text/x-python",
   "name": "python",
   "nbconvert_exporter": "python",
   "pygments_lexer": "ipython3",
   "version": "3.7.6"
  },
  "toc": {
   "base_numbering": 1,
   "nav_menu": {},
   "number_sections": true,
   "sideBar": true,
   "skip_h1_title": false,
   "title_cell": "Table of Contents",
   "title_sidebar": "Contents",
   "toc_cell": false,
   "toc_position": {},
   "toc_section_display": true,
   "toc_window_display": false
  },
  "varInspector": {
   "cols": {
    "lenName": 16,
    "lenType": 16,
    "lenVar": 40
   },
   "kernels_config": {
    "python": {
     "delete_cmd_postfix": "",
     "delete_cmd_prefix": "del ",
     "library": "var_list.py",
     "varRefreshCmd": "print(var_dic_list())"
    },
    "r": {
     "delete_cmd_postfix": ") ",
     "delete_cmd_prefix": "rm(",
     "library": "var_list.r",
     "varRefreshCmd": "cat(var_dic_list()) "
    }
   },
   "types_to_exclude": [
    "module",
    "function",
    "builtin_function_or_method",
    "instance",
    "_Feature"
   ],
   "window_display": false
  }
 },
 "nbformat": 4,
 "nbformat_minor": 4
}
