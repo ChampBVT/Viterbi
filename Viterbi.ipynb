{
 "cells": [
  {
   "cell_type": "markdown",
   "metadata": {},
   "source": [
    "Output1 = s_reg[0] XOR s_reg[1] XOR s_reg[2]\n"
   ]
  },
  {
   "cell_type": "markdown",
   "metadata": {},
   "source": [
    "Output2 = s_reg[0] XOR s_reg[2]"
   ]
  },
  {
   "cell_type": "markdown",
   "metadata": {},
   "source": [
    "Next stage = s_reg[1], s_reg[S2]"
   ]
  },
  {
   "cell_type": "code",
   "execution_count": 72,
   "metadata": {
    "ExecuteTime": {
     "end_time": "2020-12-28T16:40:25.575846Z",
     "start_time": "2020-12-28T16:40:25.552845Z"
    },
    "scrolled": true
   },
   "outputs": [],
   "source": [
    "def xor(bit0, bit1):\n",
    "    if (bit0 == bit1):\n",
    "        return '0'\n",
    "    else:\n",
    "        return '1'\n",
    "\n",
    "def viterbi_encoder(inputs):\n",
    "    if (type(inputs) is int):\n",
    "        inputs = str(inputs)\n",
    "    else:\n",
    "        inputs = ''.join(map(str, inputs))\n",
    "    print(inputs)\n",
    "    # Shift register encoder\n",
    "    s_reg = [\"0\", \"0\", \"0\"]\n",
    "    obs = []\n",
    "    for t in range(0, len(inputs)):\n",
    "        # Shifting the bits to left\n",
    "        s_reg[0] = s_reg[1]\n",
    "        s_reg[1] = s_reg[2]\n",
    "        # Inserting input\n",
    "        s_reg[2] = inputs[t]\n",
    "        state = s_reg[1] + s_reg[2]\n",
    "        obs.append([])\n",
    "        # Encoded bits\n",
    "        obs[t] = xor(xor(s_reg[0], s_reg[1]), s_reg[2]) + xor(\n",
    "            s_reg[0], s_reg[2])\n",
    "        print(s_reg, \"State: \" + state, \"Input: \"+inputs[t], \"Output: \" + obs[t])\n",
    "    print(\"Encoded: \", obs)"
   ]
  },
  {
   "cell_type": "code",
   "execution_count": 73,
   "metadata": {
    "ExecuteTime": {
     "end_time": "2020-12-28T16:40:27.816144Z",
     "start_time": "2020-12-28T16:40:27.809146Z"
    }
   },
   "outputs": [
    {
     "name": "stdout",
     "output_type": "stream",
     "text": [
      "10011\n",
      "['0', '0', '1'] State: 01 Input: 1 Output: 11\n",
      "['0', '1', '0'] State: 10 Input: 0 Output: 10\n",
      "['1', '0', '0'] State: 00 Input: 0 Output: 11\n",
      "['0', '0', '1'] State: 01 Input: 1 Output: 11\n",
      "['0', '1', '1'] State: 11 Input: 1 Output: 01\n",
      "Encoded:  ['11', '10', '11', '11', '01']\n"
     ]
    }
   ],
   "source": [
    "inputs = '10011'\n",
    "viterbi_encoder(inputs)"
   ]
  },
  {
   "cell_type": "code",
   "execution_count": 75,
   "metadata": {
    "ExecuteTime": {
     "end_time": "2020-12-28T16:40:37.984240Z",
     "start_time": "2020-12-28T16:40:37.977238Z"
    }
   },
   "outputs": [],
   "source": [
    "def bits_diff_num(num_1,num_2):\n",
    "    count=0;\n",
    "    for i in range(0,len(num_1),1):\n",
    "        if num_1[i]!=num_2[i]:\n",
    "            count=count+1\n",
    "    return count"
   ]
  },
  {
   "cell_type": "code",
   "execution_count": 76,
   "metadata": {
    "ExecuteTime": {
     "end_time": "2020-12-28T16:40:38.876241Z",
     "start_time": "2020-12-28T16:40:38.857241Z"
    }
   },
   "outputs": [],
   "source": [
    "def viterbi_decoder(obs, state, start):\n",
    "    # Trellis structure\n",
    "    V = [{}]\n",
    "    for st in state:\n",
    "        # Initial values of the first observation\n",
    "        V[0][st] = {\"metric\": start[st]}\n",
    "    for t in range(1, len(obs) + 1):\n",
    "        V.append({})\n",
    "        for st in state:\n",
    "            # Check for smallest bit difference from possible previous paths, adding with previous metric\n",
    "            metric, b = min(\n",
    "                (V[t - 1][state[st][b]['prev_st']]['metric'] +\n",
    "                 bits_diff(state[st][b]['output'], obs[t - 1]), b)\n",
    "                for b in state[st])\n",
    "            V[t][st] = {\"metric\": metric, \"branch\": b}\n",
    "\n",
    "    smallest = min(V[t][st][\"metric\"] for st in state)\n",
    "    real_input = []\n",
    "    # Traceback the path on smallest metric on last trellis column\n",
    "    for st in state:\n",
    "        if V[len(obs)][st][\"metric\"] == smallest:\n",
    "            source_state = st\n",
    "            for t in range(len(obs), 0, -1):\n",
    "                branch = V[t][source_state][\"branch\"]\n",
    "                real_input.append(state[source_state][branch]['input'])\n",
    "                source_state = state[source_state][branch]['prev_st']\n",
    "    real_input.reverse()\n",
    "    print(\"Trellis: \", json.dumps(V, indent=2))\n",
    "    print(\"Encoded Input: \", obs)\n",
    "    print(\"Real Input: \", real_input)"
   ]
  },
  {
   "cell_type": "code",
   "execution_count": 77,
   "metadata": {
    "ExecuteTime": {
     "end_time": "2020-12-28T16:40:46.004162Z",
     "start_time": "2020-12-28T16:40:45.985162Z"
    }
   },
   "outputs": [
    {
     "name": "stdout",
     "output_type": "stream",
     "text": [
      "Trellis:  [\n",
      "  {\n",
      "    \"zero\": {\n",
      "      \"metric\": 0\n",
      "    },\n",
      "    \"one\": {\n",
      "      \"metric\": 0\n",
      "    },\n",
      "    \"two\": {\n",
      "      \"metric\": 0\n",
      "    },\n",
      "    \"three\": {\n",
      "      \"metric\": 0\n",
      "    }\n",
      "  },\n",
      "  {\n",
      "    \"zero\": {\n",
      "      \"metric\": 0,\n",
      "      \"branch\": \"b1\"\n",
      "    },\n",
      "    \"one\": {\n",
      "      \"metric\": 1,\n",
      "      \"branch\": \"b1\"\n",
      "    },\n",
      "    \"two\": {\n",
      "      \"metric\": 0,\n",
      "      \"branch\": \"b1\"\n",
      "    },\n",
      "    \"three\": {\n",
      "      \"metric\": 1,\n",
      "      \"branch\": \"b1\"\n",
      "    }\n",
      "  },\n",
      "  {\n",
      "    \"zero\": {\n",
      "      \"metric\": 1,\n",
      "      \"branch\": \"b2\"\n",
      "    },\n",
      "    \"one\": {\n",
      "      \"metric\": 0,\n",
      "      \"branch\": \"b2\"\n",
      "    },\n",
      "    \"two\": {\n",
      "      \"metric\": 1,\n",
      "      \"branch\": \"b1\"\n",
      "    },\n",
      "    \"three\": {\n",
      "      \"metric\": 1,\n",
      "      \"branch\": \"b1\"\n",
      "    }\n",
      "  },\n",
      "  {\n",
      "    \"zero\": {\n",
      "      \"metric\": 0,\n",
      "      \"branch\": \"b1\"\n",
      "    },\n",
      "    \"one\": {\n",
      "      \"metric\": 2,\n",
      "      \"branch\": \"b1\"\n",
      "    },\n",
      "    \"two\": {\n",
      "      \"metric\": 1,\n",
      "      \"branch\": \"b1\"\n",
      "    },\n",
      "    \"three\": {\n",
      "      \"metric\": 2,\n",
      "      \"branch\": \"b1\"\n",
      "    }\n",
      "  },\n",
      "  {\n",
      "    \"zero\": {\n",
      "      \"metric\": 2,\n",
      "      \"branch\": \"b1\"\n",
      "    },\n",
      "    \"one\": {\n",
      "      \"metric\": 2,\n",
      "      \"branch\": \"b2\"\n",
      "    },\n",
      "    \"two\": {\n",
      "      \"metric\": 0,\n",
      "      \"branch\": \"b1\"\n",
      "    },\n",
      "    \"three\": {\n",
      "      \"metric\": 2,\n",
      "      \"branch\": \"b2\"\n",
      "    }\n",
      "  },\n",
      "  {\n",
      "    \"zero\": {\n",
      "      \"metric\": 3,\n",
      "      \"branch\": \"b1\"\n",
      "    },\n",
      "    \"one\": {\n",
      "      \"metric\": 2,\n",
      "      \"branch\": \"b1\"\n",
      "    },\n",
      "    \"two\": {\n",
      "      \"metric\": 3,\n",
      "      \"branch\": \"b1\"\n",
      "    },\n",
      "    \"three\": {\n",
      "      \"metric\": 0,\n",
      "      \"branch\": \"b2\"\n",
      "    }\n",
      "  }\n",
      "]\n",
      "Encoded Input:  ['11', '10', '11', '11', '01']\n",
      "Real Input:  [1, 0, 0, 1, 1]\n"
     ]
    }
   ],
   "source": [
    "obs = ['11', '10', '11', '11', '01']\n",
    "start = {'zero': 0, 'one': 0, 'two': 0, 'three': 0}\n",
    "state = {\n",
    "    # Current state, possible branches, branch information\n",
    "    'zero': {\n",
    "        'b1': {\n",
    "            'output': \"11\",\n",
    "            'prev_st': 'one',\n",
    "            'input': 0\n",
    "        },\n",
    "        'b2': {\n",
    "            'output': \"00\",\n",
    "            'prev_st': 'zero',\n",
    "            'input': 0\n",
    "        }\n",
    "    },\n",
    "    'one': {\n",
    "        'b1': {\n",
    "            'output': \"01\",\n",
    "            'prev_st': 'three',\n",
    "            'input': 0\n",
    "        },\n",
    "        'b2': {\n",
    "            'output': \"10\",\n",
    "            'prev_st': 'two',\n",
    "            'input': 0\n",
    "        }\n",
    "    },\n",
    "    'two': {\n",
    "        'b1': {\n",
    "            'output': \"11\",\n",
    "            'prev_st': 'zero',\n",
    "            'input': 1\n",
    "        },\n",
    "        'b2': {\n",
    "            'output': \"00\",\n",
    "            'prev_st': 'one',\n",
    "            'input': 1\n",
    "        }\n",
    "    },\n",
    "    'three': {\n",
    "        'b1': {\n",
    "            'output': \"10\",\n",
    "            'prev_st': 'three',\n",
    "            'input': 1\n",
    "        },\n",
    "        'b2': {\n",
    "            'output': \"01\",\n",
    "            'prev_st': 'two',\n",
    "            'input': 1\n",
    "        }\n",
    "    },\n",
    "}\n",
    "viterbi_decoder(obs, state, start)"
   ]
  }
 ],
 "metadata": {
  "hide_input": false,
  "kernelspec": {
   "display_name": "Python 3",
   "language": "python",
   "name": "python3"
  },
  "language_info": {
   "codemirror_mode": {
    "name": "ipython",
    "version": 3
   },
   "file_extension": ".py",
   "mimetype": "text/x-python",
   "name": "python",
   "nbconvert_exporter": "python",
   "pygments_lexer": "ipython3",
   "version": "3.7.6"
  },
  "toc": {
   "base_numbering": 1,
   "nav_menu": {},
   "number_sections": true,
   "sideBar": true,
   "skip_h1_title": false,
   "title_cell": "Table of Contents",
   "title_sidebar": "Contents",
   "toc_cell": false,
   "toc_position": {},
   "toc_section_display": true,
   "toc_window_display": false
  },
  "varInspector": {
   "cols": {
    "lenName": 16,
    "lenType": 16,
    "lenVar": 40
   },
   "kernels_config": {
    "python": {
     "delete_cmd_postfix": "",
     "delete_cmd_prefix": "del ",
     "library": "var_list.py",
     "varRefreshCmd": "print(var_dic_list())"
    },
    "r": {
     "delete_cmd_postfix": ") ",
     "delete_cmd_prefix": "rm(",
     "library": "var_list.r",
     "varRefreshCmd": "cat(var_dic_list()) "
    }
   },
   "types_to_exclude": [
    "module",
    "function",
    "builtin_function_or_method",
    "instance",
    "_Feature"
   ],
   "window_display": false
  }
 },
 "nbformat": 4,
 "nbformat_minor": 4
}
